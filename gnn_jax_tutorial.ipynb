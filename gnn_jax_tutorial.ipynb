{
  "cells": [
    {
      "cell_type": "markdown",
      "metadata": {
        "id": "y9rJ8aLuZrN4"
      },
      "source": [
        "# Using JAX and Haiku to build a Graph Neural Network"
      ]
    },
    {
      "cell_type": "code",
      "execution_count": 16,
      "metadata": {
        "id": "M9aeFmfHZrN5"
      },
      "outputs": [],
      "source": [
        "!pip install -q -U jax dm-haiku jdc pandas"
      ]
    },
    {
      "cell_type": "markdown",
      "metadata": {
        "id": "NX9_O20vZrN4"
      },
      "source": [
        "---\n",
        "### JAX"
      ]
    },
    {
      "cell_type": "markdown",
      "metadata": {
        "id": "JhK3NHpEZrN5"
      },
      "source": [
        "Last year, I had an oppotunity to devel into the world of JAX whilst working at InstaDeep. My first blopig post seems like an ideal time to share some of that knowledge. JAX is an experimental Python library created by Google's DeepMind for applying accelerated differentiation. JAX can be used to differentiate functions written in NumPy or native Python, just-in-time compile and execute functions on GPUs and TPUs with XLA, and mini-batch repetitious functions with vectorization. Collectively, these qualities place JAX as an ideal candidate for accelerated deep learning research [1].\n",
        "\n",
        "JAX is inspired by the NumPy API, making usage very familiar for any Python user that has already worked with NumPy [2]. However, unlike NumPy, JAX arrays are immutable; once they are assigned in memory they cannot be changed. As such, JAX includes specific syntax for index manipulation. In the code below, we create a JAX array and change the $1^{st}$ element to a $4$:"
      ]
    },
    {
      "cell_type": "code",
      "execution_count": 1,
      "metadata": {
        "colab": {
          "base_uri": "https://localhost:8080/"
        },
        "id": "ZqhuK94gZrN5",
        "outputId": "77dbad11-8161-4325-aef5-9dcf7a9a632c"
      },
      "outputs": [
        {
          "data": {
            "text/plain": [
              "Array([1, 4, 3], dtype=int32)"
            ]
          },
          "execution_count": 1,
          "metadata": {},
          "output_type": "execute_result"
        }
      ],
      "source": [
        "import jax.numpy as jnp\n",
        "array = jnp.array([1, 2, 3])\n",
        "array = array.at[1].set(4)\n",
        "array"
      ]
    },
    {
      "cell_type": "markdown",
      "metadata": {
        "id": "dUha-_ueZrN6"
      },
      "source": [
        "It is possible to implement numerous standard NumPy functions in JAX, such as matrix multiplication and vector dot product. However, the true power of JAX comes from three core functions; `grad`, `jit`, and `vmap` (and `pmap` but we don't cover that here). Using `grad`, we can determine the gradient of a given function with respect to an input value. Below we define a function for cubing an input $x$, wrap the function with `grad`, and can subsequently use the wrapped function to obtain the gradient with respect to $x$:"
      ]
    },
    {
      "cell_type": "code",
      "execution_count": 2,
      "metadata": {
        "colab": {
          "base_uri": "https://localhost:8080/",
          "height": 35
        },
        "id": "Km6BrLhnZrN6",
        "outputId": "42dba694-5490-4d64-d4af-0975d7dc5ea6"
      },
      "outputs": [
        {
          "data": {
            "text/plain": [
              "\"f'(1.0) = 3.0\""
            ]
          },
          "execution_count": 2,
          "metadata": {},
          "output_type": "execute_result"
        }
      ],
      "source": [
        "from jax import grad, jit, vmap\n",
        "\n",
        "fn = lambda x: x**3\n",
        "grad_fn = grad(fn)\n",
        "f\"f'(1.0) = {grad_fn(1.0)}\""
      ]
    },
    {
      "cell_type": "markdown",
      "metadata": {
        "id": "oNWfnh8pZrN6"
      },
      "source": [
        "This can be repeated to determine second, third, fourth etc. order derivatives:"
      ]
    },
    {
      "cell_type": "code",
      "execution_count": 3,
      "metadata": {
        "colab": {
          "base_uri": "https://localhost:8080/",
          "height": 206
        },
        "id": "3J5YZfWHZrN6",
        "outputId": "fafe4aba-8f7e-44d7-bd92-e08955ee635f"
      },
      "outputs": [
        {
          "data": {
            "text/html": [
              "<div>\n",
              "<style scoped>\n",
              "    .dataframe tbody tr th:only-of-type {\n",
              "        vertical-align: middle;\n",
              "    }\n",
              "\n",
              "    .dataframe tbody tr th {\n",
              "        vertical-align: top;\n",
              "    }\n",
              "\n",
              "    .dataframe thead th {\n",
              "        text-align: right;\n",
              "    }\n",
              "</style>\n",
              "<table border=\"1\" class=\"dataframe\">\n",
              "  <thead>\n",
              "    <tr style=\"text-align: right;\">\n",
              "      <th></th>\n",
              "      <th>Function</th>\n",
              "      <th>Output</th>\n",
              "    </tr>\n",
              "  </thead>\n",
              "  <tbody>\n",
              "    <tr>\n",
              "      <th>0</th>\n",
              "      <td>f(x)</td>\n",
              "      <td>x^(3)</td>\n",
              "    </tr>\n",
              "    <tr>\n",
              "      <th>1</th>\n",
              "      <td>f(1.0)</td>\n",
              "      <td>1.0</td>\n",
              "    </tr>\n",
              "    <tr>\n",
              "      <th>2</th>\n",
              "      <td>f'(1.0)</td>\n",
              "      <td>3.0</td>\n",
              "    </tr>\n",
              "    <tr>\n",
              "      <th>3</th>\n",
              "      <td>f''(1.0)</td>\n",
              "      <td>6.0</td>\n",
              "    </tr>\n",
              "    <tr>\n",
              "      <th>4</th>\n",
              "      <td>f'''(1.0)</td>\n",
              "      <td>6.0</td>\n",
              "    </tr>\n",
              "  </tbody>\n",
              "</table>\n",
              "</div>"
            ],
            "text/plain": [
              "    Function Output\n",
              "0       f(x)  x^(3)\n",
              "1     f(1.0)    1.0\n",
              "2    f'(1.0)    3.0\n",
              "3   f''(1.0)    6.0\n",
              "4  f'''(1.0)    6.0"
            ]
          },
          "execution_count": 3,
          "metadata": {},
          "output_type": "execute_result"
        }
      ],
      "source": [
        "import pandas as pd\n",
        "second_grad_fn = grad(grad(fn))\n",
        "third_grad_fn = grad(second_grad_fn)\n",
        "\n",
        "pd.DataFrame({\n",
        "    'Function': [\"f(x)\", \"f(1.0)\",\"f'(1.0)\",\"f''(1.0)\",\"f'''(1.0)\"],\n",
        "    'Output': [\"x^(3)\", fn(1.0), grad_fn(1.0), second_grad_fn(1.0), third_grad_fn(1.0)]\n",
        "})"
      ]
    },
    {
      "cell_type": "markdown",
      "metadata": {
        "id": "LdZ8BNo6ZrN6"
      },
      "source": [
        "Additionally, one can use `grad` to determine partial derivatives by defining which argument postitions to differentiate with respect to. By default, gradients are calculated with respect to the $0th$ argument. For example for the function $f(x, y) = yx^{2}$, the partial derivatives $\\frac{\\delta f}{\\delta x}$ and $\\frac{\\delta f}{\\delta y}$ for $x = 2$ and $y = 2$ can be calculated like so:"
      ]
    },
    {
      "cell_type": "code",
      "execution_count": 4,
      "metadata": {
        "colab": {
          "base_uri": "https://localhost:8080/"
        },
        "id": "jv3eA3EQZrN6",
        "outputId": "0a336e9b-0a98-4088-ff9b-b073cf175797"
      },
      "outputs": [
        {
          "name": "stdout",
          "output_type": "stream",
          "text": [
            "df(2,2)/dx = 8.0; df(2,2)/dy = 4.0\n"
          ]
        }
      ],
      "source": [
        "fn = lambda x, y: y*x**2\n",
        "grad_fn = grad(fn, argnums=(0, 1))\n",
        "df_dx, df_dy = grad_fn(2.0, 2.0)\n",
        "print(f\"df(2,2)/dx = {df_dx}; df(2,2)/dy = {df_dy}\")"
      ]
    },
    {
      "cell_type": "markdown",
      "metadata": {
        "id": "mWguVpneZrN6"
      },
      "source": [
        "To calculate over sets of values we either after to run a loop or, using `vmap`, we can vectorize our gradient functions and calculate derivatives over a batch of values simultaneously:"
      ]
    },
    {
      "cell_type": "code",
      "execution_count": 5,
      "metadata": {
        "colab": {
          "base_uri": "https://localhost:8080/"
        },
        "id": "6onJ3l6aZrN6",
        "outputId": "cc938c27-789f-408c-9ced-2abc8c2ae0ae"
      },
      "outputs": [
        {
          "name": "stdout",
          "output_type": "stream",
          "text": [
            "df/dx = [ 2.  8. 18.]\n",
            "df/dy = [1. 4. 9.]\n"
          ]
        }
      ],
      "source": [
        "vmap_grad_fn = vmap(grad_fn)\n",
        "\n",
        "x = jnp.array([1.0, 2.0, 3.0])\n",
        "y = jnp.array([1.0, 2.0, 3.0])\n",
        "\n",
        "df_dx, df_dy = vmap_grad_fn(x, y)\n",
        "print(f\"df/dx = {df_dx}\")\n",
        "print(f\"df/dy = {df_dy}\")"
      ]
    },
    {
      "cell_type": "markdown",
      "metadata": {
        "id": "VN8F93XOZrN7"
      },
      "source": [
        "Vectorizing in this way makes for noticably faster computation:"
      ]
    },
    {
      "cell_type": "code",
      "execution_count": 6,
      "metadata": {
        "colab": {
          "base_uri": "https://localhost:8080/"
        },
        "id": "MEB6-pskZrN7",
        "outputId": "2dc30b3f-8ea1-4705-b4f0-ce2c5cb4c610"
      },
      "outputs": [
        {
          "name": "stdout",
          "output_type": "stream",
          "text": [
            "1.79 ms ± 19.8 µs per loop (mean ± std. dev. of 7 runs, 1,000 loops each)\n",
            "787 µs ± 6.56 µs per loop (mean ± std. dev. of 7 runs, 1,000 loops each)\n"
          ]
        }
      ],
      "source": [
        "%timeit [grad_fn(i,j) for i,j in zip(x,y)]\n",
        "%timeit vmap_grad_fn(x, y)"
      ]
    },
    {
      "cell_type": "markdown",
      "metadata": {
        "id": "b36ByA3rZrN7"
      },
      "source": [
        "In addition to vectorizing, `jit` can be used to compile our functions for accelerated performance:"
      ]
    },
    {
      "cell_type": "code",
      "execution_count": 7,
      "metadata": {
        "colab": {
          "base_uri": "https://localhost:8080/"
        },
        "id": "zEPvYLCEZrN7",
        "outputId": "bec2927e-b9cd-437a-8834-b4466c9357b5"
      },
      "outputs": [
        {
          "name": "stdout",
          "output_type": "stream",
          "text": [
            "767 µs ± 3.28 µs per loop (mean ± std. dev. of 7 runs, 1,000 loops each)\n",
            "4.53 µs ± 49 ns per loop (mean ± std. dev. of 7 runs, 100,000 loops each)\n"
          ]
        }
      ],
      "source": [
        "jitted = jit(vmap_grad_fn)\n",
        "%timeit vmap_grad_fn(x, y)\n",
        "%timeit jitted(x, y)"
      ]
    },
    {
      "cell_type": "markdown",
      "metadata": {
        "id": "HC6DWDJBZrN7"
      },
      "source": [
        "### Graph Neural Networks\n",
        "\n",
        "Graph Neural Networks, or GNNs, are an increasingly common deep learning method. Graphs are a type of data structure which are comprised of 'nodes' and 'edges' between nodes [3]. The diagram below depicts a graph with nodes and edges shown as circles and lines respectively [4]:"
      ]
    },
    {
      "cell_type": "markdown",
      "metadata": {
        "id": "93yl0ifX2DIb"
      },
      "source": [
        "![graph18.jpg](data:image/jpeg;base64,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)"
      ]
    },
    {
      "cell_type": "markdown",
      "metadata": {
        "id": "Tx9ze3eEZrN7"
      },
      "source": [
        "The underlying concept of GNNs is to update the graph by combining each node with its local neighbourhood, obtaining a representation of each node that considers both its original state and its position within the graph [5]. When parsed through a GNN layer, each node contributes a message to its neighbours in step known as message passing; messages are aggregated to form a new node representation. The GNN method we will be implementing here is Graph Convolutional Neural Networks (GCNs) [6]. GCNs are defined mathematically:\n",
        "\n",
        "$$X' = \\hat{D}^{-\\frac{1}{2}}\\hat{A}\\hat{D}^{-\\frac{1}{2}}X\\Theta$$\n",
        "\n",
        "where $\\hat{A} = A + I$ is the graph adjacency matrix with self-loops, $\\hat{D}$ is the diagonal degree matrix of $\\hat{A}$, $X$ is the original node feature matrix, $\\Theta$ is a non-linear transformation like an MLP, and $X'$ is the updated node features. By using matrix multiplication of $\\hat{A}$ and $X$ we sum the local neighbourhood of each node with itself, performing message passing and aggregation. To prevent aggregation being dependent on the degree of each node, $\\hat{D}^{-\\frac{1}{2}}$ is used to symmetrically normalise the graph adjacency matrix."
      ]
    },
    {
      "cell_type": "markdown",
      "metadata": {
        "id": "ttUyw86mZrN7"
      },
      "source": [
        "### Haiku\n",
        "\n",
        "Haiku is wrapper library for applying JAX to machine learning developed by DeepMind, allowing creation of JAX trees of model parameters using an object orientated approach [7]. So how do we use Haiku to construct a GCN? First we need to define a GCN layer class. Note that class methods written below are split across cells to allow additional markdown explanations between methods. This is done using `%%add_to **insert class name**` from jupyter dynamic cells.\n",
        "\n",
        "Below we have our GCNLayer class with its constructor method; we will use this to define the depth and width of $\\Theta$ and our non-linear activation function. Unlike PyTorch, we do not define our layers explicitly in the constructor method; this is due JAX being built on pure functions. To prepare our class, we will later apply `hk.transform` to make our object-oriented structure JAX compatible."
      ]
    },
    {
      "cell_type": "code",
      "execution_count": 8,
      "metadata": {
        "id": "DYZpPRN5ZrN7"
      },
      "outputs": [],
      "source": [
        "# GCN layer in JAX\n",
        "import haiku as hk\n",
        "import jax\n",
        "from functools import partial # for using jit decorators\n",
        "import jdc # allows classes to be split into multiple cells\n",
        "\n",
        "class GCNLayer(hk.Module):\n",
        "    def __init__(self, dims: tuple[int], activation = jax.nn.relu) -> None:\n",
        "        super(GCNLayer, self).__init__()\n",
        "        self.dims = dims\n",
        "        self.activation = activation"
      ]
    },
    {
      "cell_type": "markdown",
      "metadata": {
        "id": "KyeHsxV1ZrN7"
      },
      "source": [
        "Next we need a method for symmetrically normalizing our adjacency matrix. Here we take $\\hat{A}$ as input, determine the degree of each node, create $\\hat{D}^{-\\frac{1}{2}}$, compute $\\hat{D}^{-\\frac{1}{2}}\\hat{A}\\hat{D}^{-\\frac{1}{2}}$, and output the normalized adjacency matrix:"
      ]
    },
    {
      "cell_type": "code",
      "execution_count": 9,
      "metadata": {
        "id": "t2VpFRtUZrN7"
      },
      "outputs": [],
      "source": [
        "%%add_to GCNLayer\n",
        "def normalize_adj(self, adj: jnp.ndarray) -> jnp.ndarray:\n",
        "    # adjacency normalization method\n",
        "    degree = jnp.sum(adj, axis=-1)\n",
        "    degree_inv_sqrt = jnp.power(degree, -0.5)\n",
        "    degree_inv_sqrt = jnp.where(jnp.isinf(degree_inv_sqrt), 0, degree_inv_sqrt)\n",
        "    degree_inv_sqrt = jnp.diag(degree_inv_sqrt)\n",
        "    adj_norm = jnp.matmul(degree_inv_sqrt, adj)\n",
        "    adj_norm = jnp.matmul(adj_norm, degree_inv_sqrt)\n",
        "    return adj_norm"
      ]
    },
    {
      "cell_type": "markdown",
      "metadata": {
        "id": "qtQyBlbrZrN7"
      },
      "source": [
        "Now a call function is required to run a single convolutional computation. First, we ensure self-loops are applied by setting the adjacency diagonal, then we normalize the adjacency, apply the MLP to the node features, $x$, and finally we compute the matrix multiplication:"
      ]
    },
    {
      "cell_type": "code",
      "execution_count": 10,
      "metadata": {
        "id": "FGlWC6XhZrN7"
      },
      "outputs": [],
      "source": [
        "%%add_to GCNLayer\n",
        "def __call__(self, x: jnp.ndarray, adj: jnp.ndarray, **kwargs) -> jnp.ndarray:\n",
        "    # one forward pass through a GCN layer\n",
        "    # Add self-loops to the adjacency matrix\n",
        "    adj = jnp.fill_diagonal(adj, 1, inplace=False)\n",
        "\n",
        "    # Normalize adjacency matrix\n",
        "    adj = self.normalize_adj(adj)\n",
        "\n",
        "    # apply Theta transformation\n",
        "    for dim in self.dims:\n",
        "        x = hk.Linear(dim)(x)\n",
        "        x = self.activation(x)\n",
        "    x = jnp.matmul(adj, x)\n",
        "\n",
        "    return x"
      ]
    },
    {
      "cell_type": "markdown",
      "metadata": {
        "id": "tJ0-JDlSZrN7"
      },
      "source": [
        "Now we have our GCN layer class, we need to be able to pool our output graph for global predictions. To do this, we can define a Pool class with different pooling methods and a GraphPooling class for wrapping and applying pooling. Below we have a Pool class for applying either sum, mean, or max pooling. Each function takes the node feature matrix, $x$, an index array for batched graphs indicating which graph each node belongs to (similarly to PyTorch Geometric), and an array of the number of nodes in each graph. The reason num_nodes is an explicit input is due to `jnp.unique` being typically non-jittable."
      ]
    },
    {
      "cell_type": "code",
      "execution_count": 11,
      "metadata": {
        "id": "MmR4vwNnZrN7"
      },
      "outputs": [],
      "source": [
        "# Pooling layer\n",
        "class Pool:\n",
        "    def sum(x: jnp.ndarray, batch: jnp.ndarray, num_nodes: jnp.ndarray) -> jnp.ndarray:\n",
        "        out_shape = num_nodes.shape[0]\n",
        "        return jax.ops.segment_sum(x, batch, out_shape)\n",
        "\n",
        "    def mean(x: jnp.ndarray, batch: jnp.ndarray, num_nodes: jnp.ndarray) -> jnp.ndarray:\n",
        "        added = Pool.sum(x, batch, num_nodes)\n",
        "        return added / num_nodes\n",
        "\n",
        "    def max(x: jnp.ndarray, batch: jnp.ndarray, num_nodes: jnp.ndarray) -> jnp.ndarray:\n",
        "        return jax.ops.segment_max(x, batch, num_nodes.shape[0])\n",
        "\n",
        "    def identity(x: jnp.ndarray, batch: jnp.ndarray, num_nodes: jnp.ndarray) -> jnp.ndarray:\n",
        "        return x"
      ]
    },
    {
      "cell_type": "markdown",
      "metadata": {
        "id": "lSjztbImZrN7"
      },
      "source": [
        "Next we have our wrapper class for applying graph pooling:"
      ]
    },
    {
      "cell_type": "code",
      "execution_count": 12,
      "metadata": {
        "id": "2m4AtsccZrN7"
      },
      "outputs": [],
      "source": [
        "# graph pooling wrapper\n",
        "from typing import Any, Callable\n",
        "class GraphPooling:\n",
        "    def __init__(self, pool: Callable) -> None:\n",
        "        self.pool = pool\n",
        "\n",
        "    def __call__(self, x: jnp.ndarray, batch: jnp.ndarray, num_nodes: jnp.ndarray) -> jnp.ndarray:\n",
        "        return self.pool(x, batch, num_nodes)"
      ]
    },
    {
      "cell_type": "markdown",
      "metadata": {
        "id": "2j1XnC0gZrN8"
      },
      "source": [
        "Let's test these pooling classes on 2 example batched graphs, each with 2 nodes:"
      ]
    },
    {
      "cell_type": "code",
      "execution_count": 19,
      "metadata": {
        "colab": {
          "base_uri": "https://localhost:8080/"
        },
        "id": "8_ldc0qxZrN8",
        "outputId": "ce7303ad-400e-4886-d1be-248b872b2039"
      },
      "outputs": [
        {
          "data": {
            "text/plain": [
              "Array([[2., 3.],\n",
              "       [6., 7.]], dtype=float32)"
            ]
          },
          "execution_count": 19,
          "metadata": {},
          "output_type": "execute_result"
        }
      ],
      "source": [
        "max_pool = GraphPooling(Pool.mean)\n",
        "x = jnp.array([[1, 2], [3, 4], [5, 6], [7, 8]])\n",
        "batch = jnp.array([0, 0, 1, 1])\n",
        "num_nodes = jnp.array([[2], [2]])\n",
        "max_pool(x, batch, num_nodes)"
      ]
    },
    {
      "cell_type": "markdown",
      "metadata": {
        "id": "DCQE2SEkZrN8"
      },
      "source": [
        "Great! Our two graphs have both been pooled into 1D vector representations. We now have the components to make our GCN model. Below we use the GCN layer to perform sequential 1-hop updates before global pooling is applied. Once all GCN computations have been performed the outputs are concatenated into one vector, representing our graph from $0$ to $n$-hops. To obtain a singular regression value for the input graph, we can use a final linear layer:"
      ]
    },
    {
      "cell_type": "code",
      "execution_count": 14,
      "metadata": {
        "id": "_90xOzrKZrN8"
      },
      "outputs": [],
      "source": [
        "# Full GCN model\n",
        "class GCNModel(hk.Module):\n",
        "\n",
        "    def __init__(self, dims: tuple[tuple[int]], activation = jax.nn.relu, pool: Callable=Pool.max,):\n",
        "        super(GCNModel, self).__init__()\n",
        "        self.dims = dims # dimensions of the GCN layers\n",
        "        self.activation = activation # activation function\n",
        "        self.pool = GraphPooling(pool) # pooling function\n",
        "\n",
        "    def __call__(self, x, adj, batch, num_nodes) -> Any:\n",
        "        output = [self.pool(x, batch, num_nodes)]\n",
        "        for dim in self.dims:\n",
        "            x = GCNLayer(dim, self.activation)(x, adj)\n",
        "            output.append(self.pool(x, batch, num_nodes))\n",
        "        x = jnp.concatenate(output, axis=-1)\n",
        "        x = hk.Linear(1)(x)\n",
        "        return x"
      ]
    },
    {
      "cell_type": "markdown",
      "metadata": {
        "id": "ZaGTiD5MZrN8"
      },
      "source": [
        "Now that we have our model class, it needs to be wrapped for transformation with `hk.transform`. To do this, a function which both defines the model with hyperparameters and parses an example input is required; below, the method called `_forward` performs this function. A constructor function is also required to define our hyperparameters, transform our forward pass method, and initialise our model parameters with example input data:"
      ]
    },
    {
      "cell_type": "code",
      "execution_count": 15,
      "metadata": {
        "id": "SxQ6FlmDZrN8"
      },
      "outputs": [],
      "source": [
        "# GCN wrapper class\n",
        "class GCN:\n",
        "    def __init__(\n",
        "        self, hyperparameters: dict, x: jnp.ndarray,\n",
        "        adj: jnp.ndarray, batch: jnp.ndarray, num_nodes: jnp.ndarray,\n",
        "        rng: jnp.ndarray = jax.random.PRNGKey(42),\n",
        "    ) -> None:\n",
        "        super(GCN).__init__()\n",
        "        self.hyperparameters = hyperparameters\n",
        "        self.forward = hk.transform(self._forward)\n",
        "        self.forward = hk.without_apply_rng(self.forward)\n",
        "        self.parameters = self.forward.init(rng, x, adj, batch, num_nodes)\n",
        "\n",
        "    def _forward(self, x: jnp.ndarray, adj: jnp.ndarray, batch: jnp.ndarray, num_nodes: jnp.ndarray) -> jnp.ndarray:\n",
        "        return GCNModel(**self.hyperparameters)(x, adj, batch, num_nodes)\n",
        "\n"
      ]
    },
    {
      "cell_type": "markdown",
      "metadata": {
        "id": "MCeJIfh1ZrN8"
      },
      "source": [
        "Note: for initialisation an RNG key is needed. This is typically the case for JAX functions that involve random number generation.\n",
        "\n",
        "Finally, a call function is required for running the model. In Haiku, model parameters are stored in hierarchical dictionaries which need to be input with each call:"
      ]
    },
    {
      "cell_type": "code",
      "execution_count": 16,
      "metadata": {
        "id": "y6kpev0YZrN8"
      },
      "outputs": [],
      "source": [
        "%%add_to GCN\n",
        "@partial(jit, static_argnums=(0,))\n",
        "def __call__(self, x: jnp.ndarray, adj: jnp.ndarray, batch: jnp.ndarray, num_nodes: jnp.ndarray) -> jnp.ndarray:\n",
        "    return self.forward.apply(self.parameters, x, adj, batch, num_nodes)"
      ]
    },
    {
      "cell_type": "markdown",
      "metadata": {
        "id": "wAvZQKqNZrN8"
      },
      "source": [
        "Here, we are able to add `jit`, wrapping our whole haiku model for rapid computation. As `jit` can be applied as a decorator, it simply needs to be added above our method. However, as our GCN class is not an array `self` must be defined as a static argument by wrapping `jit` with `partial`."
      ]
    },
    {
      "cell_type": "markdown",
      "metadata": {
        "id": "RqsywTI7ZrOA"
      },
      "source": [
        "With our model wrapped, how does this work in practice? Let's see how the model can be used with an example graph input. Below, we have the hyperparameters defined in a dictionary for a model with two GCN layers each with one internal 64 dim Linear layer, and one graph with 5 nodes defined in a dictionary. Using these two dictionaries, we can initialize our GCN before performing a forward pass over our graph:"
      ]
    },
    {
      "cell_type": "code",
      "execution_count": 17,
      "metadata": {
        "colab": {
          "base_uri": "https://localhost:8080/"
        },
        "id": "BLj8bQnfZrOA",
        "outputId": "d049df47-4461-4654-f940-de4e62974487"
      },
      "outputs": [
        {
          "data": {
            "text/plain": [
              "Array([[-0.10328715]], dtype=float32)"
            ]
          },
          "execution_count": 17,
          "metadata": {},
          "output_type": "execute_result"
        }
      ],
      "source": [
        "hyperparameters = {\n",
        "    'dims': ((64,), (64,)),\n",
        "    'activation': jax.nn.relu,\n",
        "    'pool': Pool.mean\n",
        "}\n",
        "graph = {\n",
        "    'x': jax.random.normal(jax.random.PRNGKey(42), (5, 2)), # 5 nodes with 2 features\n",
        "    'batch': jnp.array([0, 0, 0, 0, 0,]), # batch index for each node\n",
        "    'num_nodes': jnp.array([[5]]), # number of nodes in each graph\n",
        "    'adj': jnp.array([[0,1,0,0,0], [1,0,1,1,0], [0,1,0,0,0], [0,1,0,0,1], [0,0,0,1,0]])\n",
        "}\n",
        "\n",
        "# initialise model\n",
        "model = GCN(hyperparameters=hyperparameters, **graph)\n",
        "# forward pass\n",
        "model(**graph)"
      ]
    },
    {
      "cell_type": "markdown",
      "metadata": {
        "id": "nWAH0j3OZrOA"
      },
      "source": [
        "How do we handle multiple graphs simultaneously? Due to graphs varying in size with differing number of nodes, `vmap` is difficult to apply here. Alternatively, we can stack graphs togther and treat them as a single input. As disconnected graphs will possess no shared edges no message passing will occur between graphs. Below we create two graphs with the same structure defined in one shared adjacency matrix, but with differing features, producing two different outputs:"
      ]
    },
    {
      "cell_type": "code",
      "execution_count": 18,
      "metadata": {
        "colab": {
          "base_uri": "https://localhost:8080/"
        },
        "id": "3d3DyUGOZrOA",
        "outputId": "51f756fa-126f-4a66-8ca4-7d017ed80b12"
      },
      "outputs": [
        {
          "data": {
            "text/plain": [
              "Array([[-0.16933393],\n",
              "       [-0.07369839]], dtype=float32)"
            ]
          },
          "execution_count": 18,
          "metadata": {},
          "output_type": "execute_result"
        }
      ],
      "source": [
        "import numpy as np\n",
        "graphs = {\n",
        "    'x': jax.random.normal(jax.random.PRNGKey(42), (10, 2)), # 10 nodes with 2 features\n",
        "    'batch': jnp.array([0, 0, 0, 0, 0, 1, 1, 1, 1, 1]), # batch index for each node\n",
        "    'num_nodes': jnp.array([[5], [5]]), # number of nodes in each graph\n",
        "    'adj': np.zeros((10, 10), dtype=jnp.int32)\n",
        "}\n",
        "\n",
        "graphs['adj'][:5,:5] = graph['adj']\n",
        "graphs['adj'][-5:,-5:] = graph['adj']\n",
        "graphs['adj'] = jnp.array(graphs['adj'])\n",
        "\n",
        "model(**graphs)"
      ]
    },
    {
      "cell_type": "markdown",
      "metadata": {
        "id": "qifC-KEWZrOA"
      },
      "source": [
        "And there you have it! A brief introduction into writing GNNs in JAX and Haiku. For training, `grad` can be used to perform backpropagation by calculating the partial derivatives of the loss function with respect to model parameters; DeepMind has developed another library called Optax [8] for loss functions and optimizers, which we can take a look at another day."
      ]
    },
    {
      "cell_type": "markdown",
      "metadata": {
        "id": "1WtLaDVAdXsg"
      },
      "source": [
        "### References:\n",
        "[1] https://deepmind.google/discover/blog/using-jax-to-accelerate-our-research/\n",
        "\n",
        "[2] https://jax.readthedocs.io/en/latest/notebooks/thinking_in_jax.html\n",
        "\n",
        "[3] https://en.wikipedia.org/wiki/Graph_theory\n",
        "\n",
        "[4] https://www.geeksforgeeks.org/introduction-to-graphs-data-structure-and-algorithm-tutorials/\n",
        "\n",
        "[5] https://www.cs.mcgill.ca/~wlh/grl_book/files/GRL_Book.pdf\n",
        "\n",
        "[6] https://arxiv.org/abs/1609.02907\n",
        "\n",
        "[7] https://github.com/google-deepmind/dm-haiku\n",
        "\n",
        "[8] https://github.com/google-deepmind/optax/"
      ]
    }
  ],
  "metadata": {
    "colab": {
      "provenance": []
    },
    "kernelspec": {
      "display_name": "jax",
      "language": "python",
      "name": "python3"
    },
    "language_info": {
      "codemirror_mode": {
        "name": "ipython",
        "version": 3
      },
      "file_extension": ".py",
      "mimetype": "text/x-python",
      "name": "python",
      "nbconvert_exporter": "python",
      "pygments_lexer": "ipython3",
      "version": "3.11.0"
    }
  },
  "nbformat": 4,
  "nbformat_minor": 0
}
